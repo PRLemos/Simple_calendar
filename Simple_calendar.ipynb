{
  "nbformat": 4,
  "nbformat_minor": 0,
  "metadata": {
    "colab": {
      "provenance": [],
      "authorship_tag": "ABX9TyMKZUY5XW5Y8nmWvDfbnV2e",
      "include_colab_link": true
    },
    "kernelspec": {
      "name": "python3",
      "display_name": "Python 3"
    },
    "language_info": {
      "name": "python"
    }
  },
  "cells": [
    {
      "cell_type": "markdown",
      "metadata": {
        "id": "view-in-github",
        "colab_type": "text"
      },
      "source": [
        "<a href=\"https://colab.research.google.com/github/PRLemos/Simple_calendar/blob/main/Simple_calendar.ipynb\" target=\"_parent\"><img src=\"https://colab.research.google.com/assets/colab-badge.svg\" alt=\"Open In Colab\"/></a>"
      ]
    },
    {
      "cell_type": "markdown",
      "source": [],
      "metadata": {
        "id": "7ejeB9KHWfkO"
      }
    },
    {
      "cell_type": "markdown",
      "source": [
        "Simple Calendar Python\n"
      ],
      "metadata": {
        "id": "7M1tgftQWhP-"
      }
    },
    {
      "cell_type": "code",
      "source": [
        "import calendar\n",
        "\n",
        "# Solicitar entrada do usuário para o ano e o mês\n",
        "yy = int(input(\"Digite o ano: \"))\n",
        "mm = int(input(\"Digite o mês: \"))\n",
        "\n",
        "# Exibir o calendário\n",
        "print(calendar.month(yy, mm))\n"
      ],
      "metadata": {
        "colab": {
          "base_uri": "https://localhost:8080/"
        },
        "id": "iXK6_qijWoUH",
        "outputId": "5d8bcb70-bbdf-4a95-9bed-a651a016172a"
      },
      "execution_count": null,
      "outputs": [
        {
          "output_type": "stream",
          "name": "stdout",
          "text": [
            "Digite o ano: 2023\n",
            "Digite o mês: 01\n",
            "    January 2023\n",
            "Mo Tu We Th Fr Sa Su\n",
            "                   1\n",
            " 2  3  4  5  6  7  8\n",
            " 9 10 11 12 13 14 15\n",
            "16 17 18 19 20 21 22\n",
            "23 24 25 26 27 28 29\n",
            "30 31\n",
            "\n"
          ]
        }
      ]
    }
  ]
}